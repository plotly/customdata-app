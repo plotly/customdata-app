{
 "cells": [
  {
   "cell_type": "code",
   "execution_count": 2,
   "metadata": {},
   "outputs": [],
   "source": [
    "import jupyterlab_dash\n",
    "import dash\n",
    "from dash.dependencies import Input, Output\n",
    "from dash.exceptions import PreventUpdate\n",
    "import dash_core_components as dcc\n",
    "import dash_html_components as html\n",
    "import plotly.graph_objects as go\n",
    "import plotly.express as px\n",
    "\n",
    "gapminder = px.data.gapminder().reset_index()\n",
    "\n",
    "viewer = jupyterlab_dash.AppViewer()\n",
    "app = dash.Dash(__name__)\n",
    "\n",
    "app.layout = html.Div([\n",
    "        html.H5(\"Lasso select scatter points to update the map\"),\n",
    "        dcc.Graph(\n",
    "            id='main-figure',\n",
    "            figure=px.scatter(gapminder, x=\"gdpPercap\", y=\"lifeExp\", \n",
    "                color=\"continent\", size=\"pop\", hover_data=['index'],\n",
    "                hover_name=\"country\", animation_frame=\"year\", \n",
    "                log_x=True, size_max=60, height=300)\n",
    "            ),\n",
    "        dcc.Graph(\n",
    "            id='other-figure',\n",
    "            figure = px.scatter_geo(gapminder.query(\"year == 1952\"), \n",
    "                locations=\"iso_alpha\", \n",
    "                color=\"continent\", hover_name=\"country\", size=\"pop\",\n",
    "              projection=\"natural earth\", height=500)\n",
    "            ),\n",
    "        ]\n",
    "        )\n",
    "\n",
    "\n",
    "@app.callback(\n",
    "    Output('other-figure', 'figure'),\n",
    "    [Input('main-figure', 'selectedData')])\n",
    "def display_selected_data(selectedData):\n",
    "    if selectedData:\n",
    "        indices = [point[\"customdata\"][0] for point in selectedData[\"points\"]]\n",
    "        df = gapminder.query(\"index in @indices\")\n",
    "        return px.scatter_geo(df, locations=\"iso_alpha\", color=\"continent\",\n",
    "                size=\"pop\",\n",
    "                projection=\"natural earth\", height=500)\n",
    "    else:\n",
    "        raise PreventUpdate\n",
    "\n",
    "\n",
    "viewer.show(app)"
   ]
  },
  {
   "cell_type": "code",
   "execution_count": null,
   "metadata": {},
   "outputs": [],
   "source": []
  },
  {
   "cell_type": "code",
   "execution_count": null,
   "metadata": {},
   "outputs": [],
   "source": []
  }
 ],
 "metadata": {
  "kernelspec": {
   "display_name": "Python 3",
   "language": "python",
   "name": "python3"
  },
  "language_info": {
   "codemirror_mode": {
    "name": "ipython",
    "version": 3
   },
   "file_extension": ".py",
   "mimetype": "text/x-python",
   "name": "python",
   "nbconvert_exporter": "python",
   "pygments_lexer": "ipython3",
   "version": "3.7.3"
  }
 },
 "nbformat": 4,
 "nbformat_minor": 4
}
